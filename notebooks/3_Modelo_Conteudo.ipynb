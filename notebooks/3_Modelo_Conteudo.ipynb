{
 "cells": [
  {
   "cell_type": "code",
   "execution_count": null,
   "id": "2835f42d",
   "metadata": {},
   "outputs": [],
   "source": [
    "# 3_Modelo_Conteudo.ipynb  \n",
    "import pandas as pd\n",
    "import numpy as np\n",
    "from sklearn.metrics.pairwise import cosine_similarity\n",
    "from sklearn.feature_extraction.text import TfidfVectorizer\n",
    "from pathlib import Path\n",
    "from scipy.sparse import hstack"
   ]
  },
  {
   "cell_type": "code",
   "execution_count": 2,
   "id": "4f39b419",
   "metadata": {},
   "outputs": [],
   "source": [
    "DATA = Path(\"../data/processed\")\n",
    "movies = pd.read_csv(DATA / \"movies_clean.csv\")  # já tem one-hot de gêneros\n",
    "\n",
    "# colunas booleanas de gênero\n",
    "genre_cols = movies.columns.difference(\n",
    "    [\"movieId\", \"title\", \"avg_rating\", \"genres_list\"]  # ajuste se nomes mudarem\n",
    ")\n",
    "genre_mat = movies[genre_cols].values.astype(np.float32)"
   ]
  },
  {
   "cell_type": "code",
   "execution_count": 3,
   "id": "0dc878be",
   "metadata": {},
   "outputs": [],
   "source": [
    "tfidf = TfidfVectorizer(stop_words=\"english\")\n",
    "title_tfidf = tfidf.fit_transform(movies[\"title\"])\n",
    "content_mat = hstack([genre_mat, title_tfidf], format=\"csr\")\n"
   ]
  },
  {
   "cell_type": "code",
   "execution_count": 4,
   "id": "e8d1c7cc",
   "metadata": {},
   "outputs": [
    {
     "data": {
      "text/html": [
       "<div>\n",
       "<style scoped>\n",
       "    .dataframe tbody tr th:only-of-type {\n",
       "        vertical-align: middle;\n",
       "    }\n",
       "\n",
       "    .dataframe tbody tr th {\n",
       "        vertical-align: top;\n",
       "    }\n",
       "\n",
       "    .dataframe thead th {\n",
       "        text-align: right;\n",
       "    }\n",
       "</style>\n",
       "<table border=\"1\" class=\"dataframe\">\n",
       "  <thead>\n",
       "    <tr style=\"text-align: right;\">\n",
       "      <th></th>\n",
       "      <th>title</th>\n",
       "    </tr>\n",
       "  </thead>\n",
       "  <tbody>\n",
       "    <tr>\n",
       "      <th>2599</th>\n",
       "      <td>Toy Story 2 (1999)</td>\n",
       "    </tr>\n",
       "    <tr>\n",
       "      <th>8168</th>\n",
       "      <td>Toy Story 3 (2010)</td>\n",
       "    </tr>\n",
       "    <tr>\n",
       "      <th>10310</th>\n",
       "      <td>Toy Story 4 (2019)</td>\n",
       "    </tr>\n",
       "    <tr>\n",
       "      <th>9920</th>\n",
       "      <td>Moana (2016)</td>\n",
       "    </tr>\n",
       "    <tr>\n",
       "      <th>7232</th>\n",
       "      <td>Shrek the Third (2007)</td>\n",
       "    </tr>\n",
       "  </tbody>\n",
       "</table>\n",
       "</div>"
      ],
      "text/plain": [
       "                        title\n",
       "2599       Toy Story 2 (1999)\n",
       "8168       Toy Story 3 (2010)\n",
       "10310      Toy Story 4 (2019)\n",
       "9920             Moana (2016)\n",
       "7232   Shrek the Third (2007)"
      ]
     },
     "execution_count": 4,
     "metadata": {},
     "output_type": "execute_result"
    }
   ],
   "source": [
    "sim_matrix = cosine_similarity(content_mat, dense_output=False)\n",
    "# sparse → ocupa bem pouca RAM (~800 MB se dense; ~70 MB se sparse)\n",
    "\n",
    "def recommend_movies(title, n=5):\n",
    "    # índice do filme fonte\n",
    "    idx = movies.index[movies[\"title\"] == title]\n",
    "    if len(idx) == 0:\n",
    "        return f\"'{title}' não encontrado.\"\n",
    "    idx = idx[0]\n",
    "\n",
    "    # pega os n+1 mais similares (0 é o próprio filme)\n",
    "    sim_scores = sim_matrix[idx].toarray().ravel()\n",
    "    similar_idx = np.argsort(sim_scores)[::-1][1 : n + 1]\n",
    "    return movies.iloc[similar_idx][[\"title\"]]\n",
    "\n",
    "recommend_movies(\"Toy Story (1995)\", n=5)\n"
   ]
  }
 ],
 "metadata": {
  "kernelspec": {
   "display_name": "Python 3",
   "language": "python",
   "name": "python3"
  },
  "language_info": {
   "codemirror_mode": {
    "name": "ipython",
    "version": 3
   },
   "file_extension": ".py",
   "mimetype": "text/x-python",
   "name": "python",
   "nbconvert_exporter": "python",
   "pygments_lexer": "ipython3",
   "version": "3.12.0"
  }
 },
 "nbformat": 4,
 "nbformat_minor": 5
}
