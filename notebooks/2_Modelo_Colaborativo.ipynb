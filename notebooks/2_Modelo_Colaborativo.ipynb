{
 "cells": [
  {
   "cell_type": "code",
   "execution_count": 4,
   "id": "94a5c9ac",
   "metadata": {},
   "outputs": [],
   "source": [
    "from surprise import Dataset, Reader, KNNWithMeans, accuracy\n",
    "from surprise.model_selection import train_test_split\n",
    "import pandas as pd, pathlib as pl\n",
    "from pathlib import Path\n",
    "from surprise.dump import dump"
   ]
  },
  {
   "cell_type": "code",
   "execution_count": 5,
   "id": "0a3cbc73",
   "metadata": {},
   "outputs": [
    {
     "name": "stdout",
     "output_type": "stream",
     "text": [
      "Computing the cosine similarity matrix...\n",
      "Done computing similarity matrix.\n",
      "RMSE: 0.8265\n",
      "RMSE: 0.8265325738335136\n"
     ]
    }
   ],
   "source": [
    "ratings = pd.read_csv(\"../data/processed/ratings_clean.csv\")\n",
    "reader = Reader(rating_scale=(0.5, 5.0))\n",
    "data = Dataset.load_from_df(ratings[['userId', 'movieId', 'rating']], reader)\n",
    "train, test = train_test_split(data, test_size=.2, random_state=42)\n",
    "\n",
    "model = KNNWithMeans(k=50, sim_options={'name':'cosine', 'user_based':False})\n",
    "model.fit(train)\n",
    "preds = model.test(test)\n",
    "\n",
    "rmse = accuracy.rmse(preds)\n",
    "print(\"RMSE:\", rmse)"
   ]
  },
  {
   "cell_type": "code",
   "execution_count": null,
   "id": "d4a6ca5f",
   "metadata": {},
   "outputs": [
    {
     "name": "stdout",
     "output_type": "stream",
     "text": [
      "The dump has been saved as file ../models/knn_item.pkl\n"
     ]
    }
   ],
   "source": [
    "Path(\"../models\").mkdir(parents=True, exist_ok=True)\n",
    "\n",
    "dump(\n",
    "    file_name=\"../models/knn_item.pkl\",  # caminho relativo ao notebook\n",
    "    algo=model,                          # objeto KNN já treinado\n",
    "    predictions=preds,                   \n",
    "    verbose=1\n",
    ")\n"
   ]
  }
 ],
 "metadata": {
  "kernelspec": {
   "display_name": "Python 3",
   "language": "python",
   "name": "python3"
  },
  "language_info": {
   "codemirror_mode": {
    "name": "ipython",
    "version": 3
   },
   "file_extension": ".py",
   "mimetype": "text/x-python",
   "name": "python",
   "nbconvert_exporter": "python",
   "pygments_lexer": "ipython3",
   "version": "3.12.0"
  }
 },
 "nbformat": 4,
 "nbformat_minor": 5
}
